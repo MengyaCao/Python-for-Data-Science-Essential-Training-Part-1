{
 "cells": [
  {
   "cell_type": "markdown",
   "id": "d8be4353",
   "metadata": {},
   "source": [
    "### 1. What is a boxplot?\n"
   ]
  },
  {
   "cell_type": "markdown",
   "id": "b579c721",
   "metadata": {},
   "source": [
    "A boxplot is a data visualization of the minimum, maximum and interquartile range for variables and also outlier detection."
   ]
  },
  {
   "cell_type": "markdown",
   "id": "4ecf661d",
   "metadata": {},
   "source": [
    "### 2. Using the mtcars data set, what is the mean and standard deviation values for the qsec variable?"
   ]
  },
  {
   "cell_type": "code",
   "execution_count": 4,
   "id": "0577d80d",
   "metadata": {},
   "outputs": [],
   "source": [
    "import pandas as pd\n",
    "import numpy as np"
   ]
  },
  {
   "cell_type": "code",
   "execution_count": 16,
   "id": "8268ba13",
   "metadata": {},
   "outputs": [],
   "source": [
    "address = 'C:/Users.../Ex_Files_Python_Data_Science_EssT_Pt_1/Exercise Files/Data/mtcars.csv'\n",
    "\n",
    "cars = pd.read_csv(address)"
   ]
  },
  {
   "cell_type": "code",
   "execution_count": 10,
   "id": "babf9212",
   "metadata": {},
   "outputs": [
    {
     "data": {
      "text/html": [
       "<div>\n",
       "<style scoped>\n",
       "    .dataframe tbody tr th:only-of-type {\n",
       "        vertical-align: middle;\n",
       "    }\n",
       "\n",
       "    .dataframe tbody tr th {\n",
       "        vertical-align: top;\n",
       "    }\n",
       "\n",
       "    .dataframe thead th {\n",
       "        text-align: right;\n",
       "    }\n",
       "</style>\n",
       "<table border=\"1\" class=\"dataframe\">\n",
       "  <thead>\n",
       "    <tr style=\"text-align: right;\">\n",
       "      <th></th>\n",
       "      <th>mpg</th>\n",
       "      <th>cyl</th>\n",
       "      <th>disp</th>\n",
       "      <th>hp</th>\n",
       "      <th>drat</th>\n",
       "      <th>wt</th>\n",
       "      <th>qsec</th>\n",
       "      <th>vs</th>\n",
       "      <th>am</th>\n",
       "      <th>gear</th>\n",
       "      <th>carb</th>\n",
       "    </tr>\n",
       "  </thead>\n",
       "  <tbody>\n",
       "    <tr>\n",
       "      <th>count</th>\n",
       "      <td>32.000000</td>\n",
       "      <td>32.000000</td>\n",
       "      <td>32.000000</td>\n",
       "      <td>32.000000</td>\n",
       "      <td>32.000000</td>\n",
       "      <td>32.000000</td>\n",
       "      <td>32.000000</td>\n",
       "      <td>32.000000</td>\n",
       "      <td>32.000000</td>\n",
       "      <td>32.000000</td>\n",
       "      <td>32.0000</td>\n",
       "    </tr>\n",
       "    <tr>\n",
       "      <th>mean</th>\n",
       "      <td>20.090625</td>\n",
       "      <td>6.187500</td>\n",
       "      <td>230.721875</td>\n",
       "      <td>146.687500</td>\n",
       "      <td>3.596563</td>\n",
       "      <td>3.217250</td>\n",
       "      <td>17.848750</td>\n",
       "      <td>0.437500</td>\n",
       "      <td>0.406250</td>\n",
       "      <td>3.687500</td>\n",
       "      <td>2.8125</td>\n",
       "    </tr>\n",
       "    <tr>\n",
       "      <th>std</th>\n",
       "      <td>6.026948</td>\n",
       "      <td>1.785922</td>\n",
       "      <td>123.938694</td>\n",
       "      <td>68.562868</td>\n",
       "      <td>0.534679</td>\n",
       "      <td>0.978457</td>\n",
       "      <td>1.786943</td>\n",
       "      <td>0.504016</td>\n",
       "      <td>0.498991</td>\n",
       "      <td>0.737804</td>\n",
       "      <td>1.6152</td>\n",
       "    </tr>\n",
       "    <tr>\n",
       "      <th>min</th>\n",
       "      <td>10.400000</td>\n",
       "      <td>4.000000</td>\n",
       "      <td>71.100000</td>\n",
       "      <td>52.000000</td>\n",
       "      <td>2.760000</td>\n",
       "      <td>1.513000</td>\n",
       "      <td>14.500000</td>\n",
       "      <td>0.000000</td>\n",
       "      <td>0.000000</td>\n",
       "      <td>3.000000</td>\n",
       "      <td>1.0000</td>\n",
       "    </tr>\n",
       "    <tr>\n",
       "      <th>25%</th>\n",
       "      <td>15.425000</td>\n",
       "      <td>4.000000</td>\n",
       "      <td>120.825000</td>\n",
       "      <td>96.500000</td>\n",
       "      <td>3.080000</td>\n",
       "      <td>2.581250</td>\n",
       "      <td>16.892500</td>\n",
       "      <td>0.000000</td>\n",
       "      <td>0.000000</td>\n",
       "      <td>3.000000</td>\n",
       "      <td>2.0000</td>\n",
       "    </tr>\n",
       "    <tr>\n",
       "      <th>50%</th>\n",
       "      <td>19.200000</td>\n",
       "      <td>6.000000</td>\n",
       "      <td>196.300000</td>\n",
       "      <td>123.000000</td>\n",
       "      <td>3.695000</td>\n",
       "      <td>3.325000</td>\n",
       "      <td>17.710000</td>\n",
       "      <td>0.000000</td>\n",
       "      <td>0.000000</td>\n",
       "      <td>4.000000</td>\n",
       "      <td>2.0000</td>\n",
       "    </tr>\n",
       "    <tr>\n",
       "      <th>75%</th>\n",
       "      <td>22.800000</td>\n",
       "      <td>8.000000</td>\n",
       "      <td>326.000000</td>\n",
       "      <td>180.000000</td>\n",
       "      <td>3.920000</td>\n",
       "      <td>3.610000</td>\n",
       "      <td>18.900000</td>\n",
       "      <td>1.000000</td>\n",
       "      <td>1.000000</td>\n",
       "      <td>4.000000</td>\n",
       "      <td>4.0000</td>\n",
       "    </tr>\n",
       "    <tr>\n",
       "      <th>max</th>\n",
       "      <td>33.900000</td>\n",
       "      <td>8.000000</td>\n",
       "      <td>472.000000</td>\n",
       "      <td>335.000000</td>\n",
       "      <td>4.930000</td>\n",
       "      <td>5.424000</td>\n",
       "      <td>22.900000</td>\n",
       "      <td>1.000000</td>\n",
       "      <td>1.000000</td>\n",
       "      <td>5.000000</td>\n",
       "      <td>8.0000</td>\n",
       "    </tr>\n",
       "  </tbody>\n",
       "</table>\n",
       "</div>"
      ],
      "text/plain": [
       "             mpg        cyl        disp          hp       drat         wt  \\\n",
       "count  32.000000  32.000000   32.000000   32.000000  32.000000  32.000000   \n",
       "mean   20.090625   6.187500  230.721875  146.687500   3.596563   3.217250   \n",
       "std     6.026948   1.785922  123.938694   68.562868   0.534679   0.978457   \n",
       "min    10.400000   4.000000   71.100000   52.000000   2.760000   1.513000   \n",
       "25%    15.425000   4.000000  120.825000   96.500000   3.080000   2.581250   \n",
       "50%    19.200000   6.000000  196.300000  123.000000   3.695000   3.325000   \n",
       "75%    22.800000   8.000000  326.000000  180.000000   3.920000   3.610000   \n",
       "max    33.900000   8.000000  472.000000  335.000000   4.930000   5.424000   \n",
       "\n",
       "            qsec         vs         am       gear     carb  \n",
       "count  32.000000  32.000000  32.000000  32.000000  32.0000  \n",
       "mean   17.848750   0.437500   0.406250   3.687500   2.8125  \n",
       "std     1.786943   0.504016   0.498991   0.737804   1.6152  \n",
       "min    14.500000   0.000000   0.000000   3.000000   1.0000  \n",
       "25%    16.892500   0.000000   0.000000   3.000000   2.0000  \n",
       "50%    17.710000   0.000000   0.000000   4.000000   2.0000  \n",
       "75%    18.900000   1.000000   1.000000   4.000000   4.0000  \n",
       "max    22.900000   1.000000   1.000000   5.000000   8.0000  "
      ]
     },
     "execution_count": 10,
     "metadata": {},
     "output_type": "execute_result"
    }
   ],
   "source": [
    "cars.describe()"
   ]
  },
  {
   "cell_type": "code",
   "execution_count": 12,
   "id": "43eda78e",
   "metadata": {},
   "outputs": [
    {
     "data": {
      "text/plain": [
       "count    32.000000\n",
       "mean     17.848750\n",
       "std       1.786943\n",
       "min      14.500000\n",
       "25%      16.892500\n",
       "50%      17.710000\n",
       "75%      18.900000\n",
       "max      22.900000\n",
       "Name: qsec, dtype: float64"
      ]
     },
     "execution_count": 12,
     "metadata": {},
     "output_type": "execute_result"
    }
   ],
   "source": [
    "cars.qsec.describe()"
   ]
  },
  {
   "cell_type": "markdown",
   "id": "085a8dbb",
   "metadata": {},
   "source": [
    "### 3.What does the describe function generate?"
   ]
  },
  {
   "cell_type": "markdown",
   "id": "cc743562",
   "metadata": {},
   "source": [
    "The describe function generates the descriptive statistics for all of the variables in a dataset."
   ]
  },
  {
   "cell_type": "markdown",
   "id": "dcb05a8e",
   "metadata": {},
   "source": [
    "### 4. What is the result of the multiplication of the 2x2 matrices a=np.array([[1.,3.],[2.,4.]]) and b=np.array([[5.,8.],[7.,9.]])?"
   ]
  },
  {
   "cell_type": "code",
   "execution_count": 9,
   "id": "a57dcdbd",
   "metadata": {},
   "outputs": [
    {
     "data": {
      "text/plain": [
       "array([[ 5., 24.],\n",
       "       [14., 36.]])"
      ]
     },
     "execution_count": 9,
     "metadata": {},
     "output_type": "execute_result"
    }
   ],
   "source": [
    "a=np.array([[1.,3.],[2.,4.]])\n",
    "b=np.array([[5.,8.],[7.,9.]])\n",
    "a*b"
   ]
  },
  {
   "cell_type": "markdown",
   "id": "1bad39ff",
   "metadata": {},
   "source": [
    "### 5. What is the dot product of x=np.array([1,2,7]) and y=np.array([3,8,9])?"
   ]
  },
  {
   "cell_type": "code",
   "execution_count": 10,
   "id": "8f8910ed",
   "metadata": {},
   "outputs": [
    {
     "data": {
      "text/plain": [
       "82"
      ]
     },
     "execution_count": 10,
     "metadata": {},
     "output_type": "execute_result"
    }
   ],
   "source": [
    "x=np.array([1,2,7])\n",
    "y=np.array([3,8,9])\n",
    "np.dot(x,y)"
   ]
  },
  {
   "cell_type": "markdown",
   "id": "2509bc26",
   "metadata": {},
   "source": [
    "### 6.What is the matrix multiplication of the 2x2 matrices xx=np.array([[7.,9.],[5.,12.]]) and yy=np.array([[2.,8.],[7.,4.]])?"
   ]
  },
  {
   "cell_type": "code",
   "execution_count": 11,
   "id": "c1c1f4ef",
   "metadata": {},
   "outputs": [
    {
     "data": {
      "text/plain": [
       "array([[77., 92.],\n",
       "       [94., 88.]])"
      ]
     },
     "execution_count": 11,
     "metadata": {},
     "output_type": "execute_result"
    }
   ],
   "source": [
    "xx=np.array([[7.,9.],[5.,12.]])\n",
    "yy=np.array([[2.,8.],[7.,4.]])\n",
    "np.dot(xx,yy)"
   ]
  },
  {
   "cell_type": "markdown",
   "id": "43232ab2",
   "metadata": {},
   "source": [
    "### 7. What is the matrix multiplication of the 2x3 matrix xx=np.array([[1.,2.,3.],[4.,5.,6.]]) and the 3x2 matrix yy=np.array([[10.,11.],[20.,21.],[30.,31.]])?"
   ]
  },
  {
   "cell_type": "code",
   "execution_count": 12,
   "id": "4a26d098",
   "metadata": {},
   "outputs": [
    {
     "data": {
      "text/plain": [
       "array([[140., 146.],\n",
       "       [320., 335.]])"
      ]
     },
     "execution_count": 12,
     "metadata": {},
     "output_type": "execute_result"
    }
   ],
   "source": [
    "xx=np.array([[1.,2.,3.],[4.,5.,6.]])\n",
    "yy=np.array([[10.,11.],[20.,21.],[30.,31.]])\n",
    "np.dot(xx,yy)"
   ]
  },
  {
   "cell_type": "markdown",
   "id": "60d39667",
   "metadata": {},
   "source": [
    "### 8.What is a matrix?\n",
    "a two-dimensional container for elements that are stored in an array\n"
   ]
  },
  {
   "cell_type": "markdown",
   "id": "5128c8b0",
   "metadata": {},
   "source": [
    "### 9. Let the array a and b be given by a=np.array([1,8,2,6,3,8,5,5,5,5])' and 'b=np.array([17,16,20,18,22,15,21,15,17,22]). What is the result of (a+b)/10?"
   ]
  },
  {
   "cell_type": "code",
   "execution_count": 14,
   "id": "81ea0dd2",
   "metadata": {},
   "outputs": [
    {
     "data": {
      "text/plain": [
       "array([1.8, 2.4, 2.2, 2.4, 2.5, 2.3, 2.6, 2. , 2.2, 2.7])"
      ]
     },
     "execution_count": 14,
     "metadata": {},
     "output_type": "execute_result"
    }
   ],
   "source": [
    "a=np.array([1,8,2,6,3,8,5,5,5,5])\n",
    "b=np.array([17,16,20,18,22,15,21,15,17,22])\n",
    "(a+b)/10"
   ]
  },
  {
   "cell_type": "markdown",
   "id": "da6e1c52",
   "metadata": {},
   "source": [
    "### 10. Given a=np.array([10, 15, 20]) and b=([5, 7, 9]), what is the result of (a-b)*7?"
   ]
  },
  {
   "cell_type": "code",
   "execution_count": 15,
   "id": "0ec3e179",
   "metadata": {},
   "outputs": [
    {
     "data": {
      "text/plain": [
       "array([35, 56, 77])"
      ]
     },
     "execution_count": 15,
     "metadata": {},
     "output_type": "execute_result"
    }
   ],
   "source": [
    "a=np.array([10, 15, 20])\n",
    "b=([5, 7, 9])\n",
    "(a-b)*7"
   ]
  },
  {
   "cell_type": "markdown",
   "id": "bfdea161",
   "metadata": {},
   "source": [
    "### 11.What is the code to isolate the data from the target variable gathering the values only, given the sample dataset df_best containing 4 variables?\n",
    "data=df_best.iloc[:,0:3].values target=df_best.iloc[:,3].values\n",
    "<br>\n",
    "This code isolates the data from the target variable and returns the values only."
   ]
  },
  {
   "cell_type": "code",
   "execution_count": 20,
   "id": "485d67f8",
   "metadata": {},
   "outputs": [
    {
     "data": {
      "text/plain": [
       "array([['Mazda RX4', 21.0, 6],\n",
       "       ['Mazda RX4 Wag', 21.0, 6],\n",
       "       ['Datsun 710', 22.8, 4],\n",
       "       ['Hornet 4 Drive', 21.4, 6],\n",
       "       ['Hornet Sportabout', 18.7, 8],\n",
       "       ['Valiant', 18.1, 6],\n",
       "       ['Duster 360', 14.3, 8],\n",
       "       ['Merc 240D', 24.4, 4],\n",
       "       ['Merc 230', 22.8, 4],\n",
       "       ['Merc 280', 19.2, 6],\n",
       "       ['Merc 280C', 17.8, 6],\n",
       "       ['Merc 450SE', 16.4, 8],\n",
       "       ['Merc 450SL', 17.3, 8],\n",
       "       ['Merc 450SLC', 15.2, 8],\n",
       "       ['Cadillac Fleetwood', 10.4, 8],\n",
       "       ['Lincoln Continental', 10.4, 8],\n",
       "       ['Chrysler Imperial', 14.7, 8],\n",
       "       ['Fiat 128', 32.4, 4],\n",
       "       ['Honda Civic', 30.4, 4],\n",
       "       ['Toyota Corolla', 33.9, 4],\n",
       "       ['Toyota Corona', 21.5, 4],\n",
       "       ['Dodge Challenger', 15.5, 8],\n",
       "       ['AMC Javelin', 15.2, 8],\n",
       "       ['Camaro Z28', 13.3, 8],\n",
       "       ['Pontiac Firebird', 19.2, 8],\n",
       "       ['Fiat X1-9', 27.3, 4],\n",
       "       ['Porsche 914-2', 26.0, 4],\n",
       "       ['Lotus Europa', 30.4, 4],\n",
       "       ['Ford Pantera L', 15.8, 8],\n",
       "       ['Ferrari Dino', 19.7, 6],\n",
       "       ['Maserati Bora', 15.0, 8],\n",
       "       ['Volvo 142E', 21.4, 4]], dtype=object)"
      ]
     },
     "execution_count": 20,
     "metadata": {},
     "output_type": "execute_result"
    }
   ],
   "source": [
    "data = cars.iloc[:,0:3].values\n",
    "data"
   ]
  },
  {
   "cell_type": "code",
   "execution_count": 22,
   "id": "bc39cbae",
   "metadata": {},
   "outputs": [
    {
     "data": {
      "text/plain": [
       "array([160. , 160. , 108. , 258. , 360. , 225. , 360. , 146.7, 140.8,\n",
       "       167.6, 167.6, 275.8, 275.8, 275.8, 472. , 460. , 440. ,  78.7,\n",
       "        75.7,  71.1, 120.1, 318. , 304. , 350. , 400. ,  79. , 120.3,\n",
       "        95.1, 351. , 145. , 301. , 121. ])"
      ]
     },
     "execution_count": 22,
     "metadata": {},
     "output_type": "execute_result"
    }
   ],
   "source": [
    "target = cars.iloc[:,3].values\n",
    "target"
   ]
  },
  {
   "cell_type": "markdown",
   "id": "3e517c35",
   "metadata": {},
   "source": [
    "### 12. What does the hue parameter represent in seaborn's pairplot function?\n",
    "the categorical variable used to plot the aspects in different colors\n",
    "<br>\n",
    "\n",
    "For multivariate outlier detection hue represents the categorical variable used to plot the aspects in different colors."
   ]
  },
  {
   "cell_type": "markdown",
   "id": "2cca8769",
   "metadata": {},
   "source": [
    "### 13.What is Tukey's rule for outlier detection?\n",
    "A variable is suspicious of having outliers if it has values that are below Q1-(1.5)IQR or above Q3+(1.5)IQR.\n",
    "<br>\n",
    "\n",
    "Tukey's rule is used to detect potential outliers for a variable to see if there are any values that fall below Q1-(1.5)IQR or above Q3+(1.5)IQR."
   ]
  },
  {
   "cell_type": "markdown",
   "id": "4c208a0d",
   "metadata": {},
   "source": [
    "### 14.What does the the range of values change to once a variable that ranges from 5 to 30 is scaled?\n",
    "after being scaled the actual values range from 0 and 1\n",
    "<br>\n",
    "\n",
    "Scaling keeps the distribution of values the same but the actual values changes to range between 0 and 1, by default."
   ]
  },
  {
   "cell_type": "markdown",
   "id": "b329652a",
   "metadata": {},
   "source": [
    "### 15.What is the lower and upper limit for the Tukey Outlier, given Q1= 1.714 and Q3=1.936?\n",
    "lower limit=1.381 upper limit=2.269\n",
    "<br>\n",
    "\n",
    "The lower and upper limit equations for the Tukey Outlier are Q1-(1.5)IQR and Q3+(1.5)IQR.<br>\n",
    "IQR = Q3 - Q1 = 1.936 - 1.714 = 0.222<br>\n",
    "1.5 * IQR = 1.5 * 0.222 = 0.333<br>\n",
    "lower limit = 1.714 - 0.333 = 1.381<br>\n",
    "upper limit = 1.936 + 0.333 = 2.269"
   ]
  },
  {
   "cell_type": "markdown",
   "id": "0761ae82",
   "metadata": {},
   "source": [
    "### 16. Write the code that would be used to standardize the variable, environmental, from a sample data set?\n",
    "standardized_environmental=scale(environmental)\n",
    "<br>\n",
    "\n",
    "Using the scale function without any arguments gives the environmental variable a standard normal distribution."
   ]
  },
  {
   "cell_type": "markdown",
   "id": "bbc81793",
   "metadata": {},
   "source": [
    "### 17.What is the difference between normalization and standardization?\n",
    "Normalization puts each observation on a relative scale between 0 and 1 and standardization rescales data so that it has a zero mean and unit variance.\n",
    "<br>\n",
    "\n",
    "Normalization and standardization by default changes actual values to fall between 0 and 1 and rescales data to have a zero mean and unit variance, respectively.\n"
   ]
  },
  {
   "cell_type": "markdown",
   "id": "30c99c60",
   "metadata": {},
   "source": [
    "### 18. What is the chi-squared results from the comparison of two variables, given a chi-square of 3.171 with a corresponding p-value of 0.205?\n",
    "fail to reject the null hypothesis and conclude that the variables are independent of one another\n",
    "<br>\n",
    "\n",
    "We fail to reject the null hypothesis and conclude that the variables are independent of one another because p>0.05."
   ]
  },
  {
   "cell_type": "markdown",
   "id": "1485bf71",
   "metadata": {},
   "source": [
    "### 19. What is the chi-squared results from the comparison of two variables, given a chi-square of 11.1304 with a corresponding p-value of 0.0008?\n",
    "reject the null hypothesis and conclude that the variables are correlated\n",
    "<br>\n",
    "\n",
    "We reject the null hypothesis and conclude that the variables are correlated because p<0.05."
   ]
  },
  {
   "cell_type": "markdown",
   "id": "250086d3",
   "metadata": {},
   "source": [
    "### 20. What is a chi-squared test?\n",
    "a test for independence to determine if nonlinear variables are independent of one other\n",
    "<br>\n",
    "\n",
    "This is the definition of a chi-squared test."
   ]
  },
  {
   "cell_type": "markdown",
   "id": "6742955b",
   "metadata": {},
   "source": [
    "### 25.Using the mtcars data set, how many V-shaped engines have 6 cylinders?\n",
    "vs represents a V-engine (0) or straight engine (1)"
   ]
  },
  {
   "cell_type": "code",
   "execution_count": 38,
   "id": "0dec6993",
   "metadata": {},
   "outputs": [
    {
     "data": {
      "text/html": [
       "<div>\n",
       "<style scoped>\n",
       "    .dataframe tbody tr th:only-of-type {\n",
       "        vertical-align: middle;\n",
       "    }\n",
       "\n",
       "    .dataframe tbody tr th {\n",
       "        vertical-align: top;\n",
       "    }\n",
       "\n",
       "    .dataframe thead th {\n",
       "        text-align: right;\n",
       "    }\n",
       "</style>\n",
       "<table border=\"1\" class=\"dataframe\">\n",
       "  <thead>\n",
       "    <tr style=\"text-align: right;\">\n",
       "      <th>vs</th>\n",
       "      <th>0</th>\n",
       "      <th>1</th>\n",
       "    </tr>\n",
       "    <tr>\n",
       "      <th>cyl</th>\n",
       "      <th></th>\n",
       "      <th></th>\n",
       "    </tr>\n",
       "  </thead>\n",
       "  <tbody>\n",
       "    <tr>\n",
       "      <th>4</th>\n",
       "      <td>1</td>\n",
       "      <td>10</td>\n",
       "    </tr>\n",
       "    <tr>\n",
       "      <th>6</th>\n",
       "      <td>3</td>\n",
       "      <td>4</td>\n",
       "    </tr>\n",
       "    <tr>\n",
       "      <th>8</th>\n",
       "      <td>14</td>\n",
       "      <td>0</td>\n",
       "    </tr>\n",
       "  </tbody>\n",
       "</table>\n",
       "</div>"
      ],
      "text/plain": [
       "vs    0   1\n",
       "cyl        \n",
       "4     1  10\n",
       "6     3   4\n",
       "8    14   0"
      ]
     },
     "execution_count": 38,
     "metadata": {},
     "output_type": "execute_result"
    }
   ],
   "source": [
    "pd.crosstab(cars['cyl'], cars['vs'])"
   ]
  },
  {
   "cell_type": "markdown",
   "id": "1c97cfe3",
   "metadata": {},
   "source": [
    "### 26. Using the mtcars dataset, what is the results from the crosstab of the variables vs and cyl?\n",
    "cars with a v-shaped engine mostly have 8 cylinders and cars with a straight engine mostly have 4 cylinders\n",
    "\n"
   ]
  },
  {
   "cell_type": "code",
   "execution_count": null,
   "id": "dfbe9fde",
   "metadata": {},
   "outputs": [],
   "source": []
  }
 ],
 "metadata": {
  "kernelspec": {
   "display_name": "Python 3",
   "language": "python",
   "name": "python3"
  },
  "language_info": {
   "codemirror_mode": {
    "name": "ipython",
    "version": 3
   },
   "file_extension": ".py",
   "mimetype": "text/x-python",
   "name": "python",
   "nbconvert_exporter": "python",
   "pygments_lexer": "ipython3",
   "version": "3.8.8"
  }
 },
 "nbformat": 4,
 "nbformat_minor": 5
}
